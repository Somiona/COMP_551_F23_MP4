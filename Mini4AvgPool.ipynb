{
  "cells": [
    {
      "cell_type": "code",
      "execution_count": null,
      "metadata": {
        "ExecuteTime": {
          "end_time": "2023-12-07T09:33:01.330300300Z",
          "start_time": "2023-12-07T09:33:01.315660700Z"
        },
        "id": "O_8iqH4aJJEK"
      },
      "outputs": [],
      "source": [
        "# Get data"
      ]
    },
    {
      "cell_type": "code",
      "execution_count": null,
      "metadata": {
        "colab": {
          "base_uri": "https://localhost:8080/"
        },
        "id": "CIwlctdNC_OL",
        "is_executing": true,
        "outputId": "ccccd066-8826-4952-d883-4b9992f9b40e"
      },
      "outputs": [
        {
          "name": "stdout",
          "output_type": "stream",
          "text": [
            "Mounted at /content/drive\n"
          ]
        }
      ],
      "source": [
        "import os\n",
        "from google.colab import drive\n",
        "drive.mount('/content/drive')\n",
        "checkpoints = '/content/drive/MyDrive/colab_files/imagenet64/'\n",
        "if not os.path.exists(checkpoints):\n",
        "    os.makedirs(checkpoints)"
      ]
    },
    {
      "cell_type": "code",
      "execution_count": null,
      "metadata": {
        "id": "ESBGUvl3DIwh",
        "is_executing": true
      },
      "outputs": [],
      "source": [
        "import os\n",
        "import shutil\n",
        "!pip install unrar\n",
        "if not os.path.exists('imagenet64'):\n",
        "  print(\"Copying to local runtime...\")\n",
        "  shutil.copy(checkpoints + 'DATA.rar', './DATA.rar')\n",
        "  print(\"Uncompressing...\")\n",
        "  !unrar x DATA.rar\n",
        "print(\"Data ready!\")"
      ]
    },
    {
      "cell_type": "code",
      "execution_count": null,
      "metadata": {
        "id": "53W3ULah7okz",
        "is_executing": true
      },
      "outputs": [],
      "source": []
    },
    {
      "cell_type": "code",
      "execution_count": 1,
      "metadata": {
        "colab": {
          "base_uri": "https://localhost:8080/",
          "height": 350
        },
        "id": "4lFdjNKBjj1M",
        "is_executing": true,
        "outputId": "85c87e8a-f54c-4b90-ab7b-a66489603f07"
      },
      "outputs": [],
      "source": [
        "%load_ext tensorboard\n",
        "import datetime\n",
        "import numpy as np\n",
        "import os\n",
        "import tensorflow as tf\n",
        "import tensorflow\n",
        "\n",
        "import matplotlib.pyplot as plt\n",
        "from tqdm import tqdm\n",
        "\n",
        "from tensorflow.keras import Model\n",
        "from tensorflow.keras.models import Sequential\n",
        "from tensorflow.keras.utils import to_categorical\n",
        "from tensorflow.keras.losses import categorical_crossentropy\n",
        "from tensorflow.keras.preprocessing.image import ImageDataGenerator\n",
        "from tensorflow.keras.layers import Dense, Flatten, Conv2D, MaxPooling2D, Dropout, AveragePooling2D"
      ]
    },
    {
      "cell_type": "markdown",
      "metadata": {
        "id": "rmM7utNPcQT2"
      },
      "source": [
        "# Origional Algorithm With out any changing/ data augrumenting etc"
      ]
    },
    {
      "cell_type": "code",
      "execution_count": 2,
      "metadata": {
        "id": "TgQdaTEhx4j3",
        "is_executing": true
      },
      "outputs": [],
      "source": [
        "# AlexNet model\n",
        "class AlexNet(Sequential):\n",
        "    def __init__(self, input_shape, num_classes):\n",
        "        super().__init__()\n",
        "\n",
        "        self.add(Conv2D(96, kernel_size=(11,11), strides= 4,\n",
        "                        padding= 'valid', activation= 'relu',\n",
        "                        input_shape= input_shape,\n",
        "                        kernel_initializer= 'he_normal'))\n",
        "        self.add(AveragePooling2D(pool_size=(3,3), strides= (2,2),\n",
        "                              padding= 'valid', data_format= None))\n",
        "\n",
        "        self.add(Conv2D(256, kernel_size=(5,5), strides= 1,\n",
        "                        padding= 'same', activation= 'relu',\n",
        "                        kernel_initializer= 'he_normal'))\n",
        "        self.add(AveragePooling2D(pool_size=(3,3), strides= (2,2),\n",
        "                              padding= 'valid', data_format= None))\n",
        "\n",
        "        self.add(Conv2D(384, kernel_size=(3,3), strides= 1,\n",
        "                        padding= 'same', activation= 'relu',\n",
        "                        kernel_initializer= 'he_normal'))\n",
        "\n",
        "        self.add(Conv2D(384, kernel_size=(3,3), strides= 1,\n",
        "                        padding= 'same', activation= 'relu',\n",
        "                        kernel_initializer= 'he_normal'))\n",
        "\n",
        "        self.add(Conv2D(256, kernel_size=(3,3), strides= 1,\n",
        "                        padding= 'same', activation= 'relu',\n",
        "                        kernel_initializer= 'he_normal'))\n",
        "\n",
        "        self.add(AveragePooling2D(pool_size=(3,3), strides= (2,2),\n",
        "                              padding= 'valid', data_format= None))\n",
        "\n",
        "        self.add(Flatten())\n",
        "        self.add(Dense(4096, activation= 'relu'))\n",
        "        self.add(Dense(4096, activation= 'relu'))\n",
        "        self.add(Dense(1000, activation= 'relu'))\n",
        "        self.add(Dense(num_classes, activation= 'softmax'))\n",
        "\n",
        "        self.compile(optimizer= tf.keras.optimizers.Adam(0.001),\n",
        "                    loss='categorical_crossentropy',\n",
        "                    metrics=['accuracy'])"
      ]
    },
    {
      "cell_type": "code",
      "execution_count": 3,
      "metadata": {
        "id": "OwhWrBbtyOcb",
        "is_executing": true
      },
      "outputs": [
        {
          "name": "stderr",
          "output_type": "stream",
          "text": [
            "WARNING:absl:At this time, the v2.11+ optimizer `tf.keras.optimizers.Adam` runs slowly on M1/M2 Macs, please use the legacy Keras optimizer instead, located at `tf.keras.optimizers.legacy.Adam`.\n"
          ]
        }
      ],
      "source": [
        "num_classes = 20\n",
        "model = AlexNet((227, 227, 3), num_classes)"
      ]
    },
    {
      "cell_type": "code",
      "execution_count": 4,
      "metadata": {
        "id": "155vZtbFzRb_",
        "is_executing": true
      },
      "outputs": [],
      "source": [
        "# training parameters\n",
        "EPOCHS = 10\n",
        "BATCH_SIZE = 128\n",
        "image_height = 227\n",
        "image_width = 227\n",
        "train_dir = \"/content/train\"\n",
        "valid_dir = \"/content/val\"\n",
        "model_dir = \"/my_model.h5\""
      ]
    },
    {
      "cell_type": "code",
      "execution_count": null,
      "metadata": {
        "colab": {
          "base_uri": "https://localhost:8080/"
        },
        "id": "7Qz8qmjh0VHy",
        "is_executing": true,
        "outputId": "4b3c9724-9987-4eed-875d-1356bd942298"
      },
      "outputs": [],
      "source": [
        "train_datagen = ImageDataGenerator(\n",
        "                  rescale=1./255 ,\n",
        "                  rotation_range=10,\n",
        "                  width_shift_range=0.1,\n",
        "                  height_shift_range=0.1,\n",
        "                  shear_range=0.1,\n",
        "                  zoom_range=0.1)\n",
        "\n",
        "train_generator = train_datagen.flow_from_directory(train_dir,\n",
        "                          target_size=(image_height, image_width),\n",
        "                          color_mode=\"rgb\",\n",
        "                          batch_size=BATCH_SIZE,\n",
        "                          seed=1,\n",
        "                          shuffle=True,\n",
        "                          class_mode=\"categorical\")\n",
        "\n",
        "valid_datagen = ImageDataGenerator(rescale=1.0/255.0)\n",
        "valid_generator = valid_datagen.flow_from_directory(valid_dir,\n",
        "                        target_size=(image_height, image_width),\n",
        "                        color_mode=\"rgb\",\n",
        "                        batch_size=BATCH_SIZE,\n",
        "                        seed=7,\n",
        "                        shuffle=True,\n",
        "                        class_mode=\"categorical\"\n",
        "                        )\n",
        "train_num = train_generator.samples\n",
        "valid_num = valid_generator.samples"
      ]
    },
    {
      "cell_type": "markdown",
      "metadata": {
        "id": "RkkWqtVLp0pj"
      },
      "source": [
        "# Run test"
      ]
    },
    {
      "cell_type": "markdown",
      "metadata": {
        "id": "wcnwWgZC2Tcf"
      },
      "source": []
    },
    {
      "cell_type": "code",
      "execution_count": null,
      "metadata": {
        "id": "STaYMcYh0jiM",
        "is_executing": true
      },
      "outputs": [],
      "source": [
        "log_dir=\"./logs/fit/\" + datetime.datetime.now().strftime(\"%Y%m%d-%H%M%S\")\n",
        "tensorboard_callback = tf.keras.callbacks.TensorBoard(log_dir=log_dir)\n",
        "callback_list = [tensorboard_callback]\n",
        "\n",
        "# start training\n",
        "model.fit(train_generator,\n",
        "                    epochs=EPOCHS,\n",
        "                    steps_per_epoch=train_num // BATCH_SIZE,\n",
        "                    validation_data=valid_generator,\n",
        "                    validation_steps=valid_num // BATCH_SIZE,\n",
        "                    callbacks=callback_list,\n",
        "                    verbose=0)\n",
        "model.summary()\n",
        "\n",
        "# save the whole model\n",
        "model.save(model_dir)"
      ]
    },
    {
      "cell_type": "markdown",
      "metadata": {
        "id": "GfVayabi74cG"
      },
      "source": [
        "## Accuracy: top 1 error and top 5 error"
      ]
    },
    {
      "cell_type": "code",
      "execution_count": null,
      "metadata": {
        "id": "Zheamehr2AOw",
        "is_executing": true
      },
      "outputs": [],
      "source": [
        "class_names = os.listdir()\n",
        "\n",
        "x_valid = []\n",
        "label_batch  = []\n",
        "pop = 0\n",
        "t1=0\n",
        "t3=0\n",
        "k=0\n",
        "\n",
        "for x_valid_b, y_valid_b in valid_generator:\n",
        "  if(k > 1000/128):break\n",
        "  k+=1\n",
        "  prediction_values = model.predict(x_valid_b,batch_size=x_valid_b.shape[0])\n",
        "  for i in range(len(prediction_values)):\n",
        "    pop +=1\n",
        "    #print(type(prediction_values[i]))\n",
        "    answer = np.where(y_valid_b[i] == 1)[0][0]\n",
        "    sorted_indices = np.argsort(prediction_values[i])[::-1]\n",
        "    top_3 = sorted_indices[:3]\n",
        "\n",
        "    top_one = sorted_indices[:1]\n",
        "    if answer in top_3:t3 += 1\n",
        "    if top_one == answer: t1 +=1\n",
        "\n",
        "\n",
        "print(pop)\n",
        "\n",
        "\n",
        "print(\"top 1 accuracy = %5.3f\" %(t1/pop) )\n",
        "print(\"top 5 accuracy = %5.3f\" %(t3/pop) )"
      ]
    }
  ],
  "metadata": {
    "accelerator": "GPU",
    "colab": {
      "gpuType": "T4",
      "provenance": []
    },
    "kernelspec": {
      "display_name": "Python 3 (ipykernel)",
      "language": "python",
      "name": "python3"
    },
    "language_info": {
      "codemirror_mode": {
        "name": "ipython",
        "version": 3
      },
      "file_extension": ".py",
      "mimetype": "text/x-python",
      "name": "python",
      "nbconvert_exporter": "python",
      "pygments_lexer": "ipython3",
      "version": "3.11.6"
    }
  },
  "nbformat": 4,
  "nbformat_minor": 0
}
